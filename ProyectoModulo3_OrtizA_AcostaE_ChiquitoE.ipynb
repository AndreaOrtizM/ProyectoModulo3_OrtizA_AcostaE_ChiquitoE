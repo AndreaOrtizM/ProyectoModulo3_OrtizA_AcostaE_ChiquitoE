{
 "cells": [
  {
   "cell_type": "markdown",
   "metadata": {},
   "source": [
    "<img style=\"float: right; margin: 0px 0px 15px 15px;\" src=\"http://www.power-eng.com/content/dam/Pennenergy/online-articles/2014/11/co2-emissions.jpg\" width=\"300px\" height=\"100px\" />\n",
    "\n",
    "<font color = pink>\n",
    "\n",
    "# Reducción de Gases de Efecto Invernadero: México.\n",
    "\n",
    "<font color = purple>\n",
    "\n",
    "## 1. Objetivos\n",
    "\n",
    "<font color = blue>\n",
    "\n",
    "### 1.1 Objetivo general\n",
    "<font color = black> \n",
    "> - Analizar la tendencia de las emisiones de Gases de Efecto Invernadero (GEI)en México para determinar si se logrará acercar a las metas establecidas por el mismo país. \n",
    "\n",
    "\n",
    "<font color = blue> \n",
    "\n",
    "### 1.2 Objetivos específicos\n",
    "\n",
    "<font color = black> \n",
    "> - Importar los datos del Banco Mundial de las emisiones de GEI en México para obtener la gráfica de los mismos, así como la cantidad de emisiones de la línea base (2000).\n",
    "> - De los datos hacer el ajuste de polinomios hasta el grado que sea conveniente, para encontrar el mejor. \n",
    "> - Realizar una predicción para determinar las emisiones en 2020 y 2050 y comparar lo obtenido con las metas de reducción de la Ley General de Cambio Climático.\n",
    "> - Hacer la misma comparativa con la meta de la Contribución Nacionalmente Determinada del 2015. (checar)\n",
    "> - Energías renovables?\n"
   ]
  },
  {
   "cell_type": "markdown",
   "metadata": {},
   "source": [
    "<font color = purple>\n",
    "\n",
    "## 2. Introducción\n",
    "\n",
    "<font color = black> \n",
    "\n",
    "Desde principios del siglo XX, los científicos han venido observando un cambio en el clima que no puede atribuirse únicamente a alguna de las influencias “naturales” del pasado. Este cambio en el clima, también denominado calentamiento global, ha ocurrido más rápido que cualquier otro cambio climático del que se haya tenido constancia. \n",
    " \n",
    "La causa principal del calentamiento global es el aumento de la concentración de Gases de Efecto Invernadero (GEI) en la atmósfera que se ha producido desde la Revolución Industrial, a finales del siglo XVIII. Como consecuencia del aumento de los gases que absorben y emiten radiación térmica, se retiene más calor en la atmósfera y, por consiguiente, aumenta la temperatura media global de la superficie. El aumento de la temperatura también tiene otras repercusiones sobre el sistema climático. El conjunto de estas repercusiones se denomina cambio climático antropogénico (provocado por la acción del hombre.\n",
    "\n",
    "Los principales GEI son: \n",
    "\n",
    "* Dióxido de carbono (CO2)\n",
    "* Metano (CH4)\n",
    "* Óxido Nitroso (N2O)\n",
    "* Hidrofluorocarbonos (HFC)\n",
    "* Perfluorocarbonos (PFC)\n",
    "* Hexafluoruro de azufre (SF6)\n",
    "* Trifluoruro de nitrógeno (NF3)\n",
    "\n",
    "Cada uno de estos gases tiene una capacidad diferente de atrapar el calor en la atmósfera, también denominado “potencial de calentamiento global” (PMC), con lo obtienes el dióxido de carbono equivalente, el cual básicamente es la conversión de PMC de otros GEI al más abundante, CO2, teniendo así una equivalencia y una unidad de medida común. \n",
    "\n",
    "Los siete gases mencionados anteriormente son los más importantes y que están regulados por el Protocolo de Kioto (derivado del Convención Marco de las Naciones Unidas sobre el Cambio Climático), el cual establece objetivos legalmente vinculantes para los países desarrollados a fin de que estos limiten o reduzcan sus emisiones de GEI. Fue aprobado en 1997 y entró en vigor en 2005. El vapor de agua es el gas de efecto invernadero más importante, pero, como el ser humano no produce una cantidad significativa del mismo, no tenemos control alguno sobre su concentración en la atmósfera. En consecuencia, no está regulado por el Protocolo. \n",
    "\n",
    "Durante el primer período de compromiso (2008-2012), las Partes del Anexo I acordaron reducir sus emisiones de GEI en un promedio de, al menos, un 5% con respecto a los niveles de 1990. En diciembre de 2012, en Doha (Qatar), se aprobó un segundo período de compromiso desde el 1 de enero de 2013 hasta el 31 de diciembre de 2020. Durante este período de ocho años, las Partes del Anexo I se comprometen a reducir las emisiones de GEI, al menos, en un 18% con respecto a los niveles de 1990. La composición de las Partes en el segundo período de compromiso no es la misma que en el primer período de compromiso.  \n",
    " \n",
    "\n",
    "\n"
   ]
  },
  {
   "cell_type": "markdown",
   "metadata": {},
   "source": [
    "<font color = purple>\n",
    "\n",
    "## 3. Desarrollo \n",
    "\n",
    "<font color = black> "
   ]
  },
  {
   "cell_type": "markdown",
   "metadata": {},
   "source": [
    "<font color = purple>\n",
    "\n",
    "## 4. Simulaciones y resultados\n"
   ]
  },
  {
   "cell_type": "code",
   "execution_count": null,
   "metadata": {
    "collapsed": true
   },
   "outputs": [],
   "source": []
  }
 ],
 "metadata": {
  "kernelspec": {
   "display_name": "Python 3",
   "language": "python",
   "name": "python3"
  },
  "language_info": {
   "codemirror_mode": {
    "name": "ipython",
    "version": 3
   },
   "file_extension": ".py",
   "mimetype": "text/x-python",
   "name": "python",
   "nbconvert_exporter": "python",
   "pygments_lexer": "ipython3",
   "version": "3.6.1"
  }
 },
 "nbformat": 4,
 "nbformat_minor": 2
}
